{
 "cells": [
  {
   "cell_type": "code",
   "execution_count": null,
   "id": "441e9157",
   "metadata": {},
   "outputs": [],
   "source": [
    "# import json\n",
    "\n",
    "# package = {}\n",
    "# with open(\"../package.json\") as f:\n",
    "#     package = json.load(f)\n",
    "\n",
    "# with open(\"../package-lock.json\") as f:\n",
    "#     data = json.load(f)\n",
    "#     data[\"devDependencies\"] = {\n",
    "#         each: \"^\" + data[\"packages\"][\"node_modules/\" + each][\"version\"]\n",
    "#         for each in data[\"packages\"][\"\"][\"devDependencies\"]\n",
    "#     }\n",
    "\n",
    "# with open(\"../package.json\", \"w\") as f:\n",
    "#     json.dump(package, f, indent=4)"
   ]
  },
  {
   "cell_type": "code",
   "execution_count": null,
   "id": "6c00614a",
   "metadata": {},
   "outputs": [],
   "source": []
  }
 ],
 "metadata": {
  "kernelspec": {
   "display_name": "Python 3",
   "language": "python",
   "name": "python3"
  },
  "language_info": {
   "codemirror_mode": {
    "name": "ipython",
    "version": 3
   },
   "file_extension": ".py",
   "mimetype": "text/x-python",
   "name": "python",
   "nbconvert_exporter": "python",
   "pygments_lexer": "ipython3",
   "version": "3.13.5"
  }
 },
 "nbformat": 4,
 "nbformat_minor": 5
}
